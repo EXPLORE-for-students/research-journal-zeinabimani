{
 "cells": [
  {
   "cell_type": "markdown",
   "metadata": {},
   "source": [
    "# Research Journal 1  \n",
    "**Author:** Zeinab Imani  \n",
    "**Date:** February 8, 2025  "
   ]
  },
  {
   "cell_type": "markdown",
   "metadata": {
    "jp-MarkdownHeadingCollapsed": true
   },
   "source": [
    "# 1: Experience\n",
    "## Describe at least one research activity you worked on this week. \n",
    "\n",
    "Over the past month, we focused on setting up access to the **COSMA** system ([COSMA Docs](https://cosma.readthedocs.io/en/latest/account.html)) to retrieve and analyze data from the **COCO simulation** ([COCO Paper](https://arxiv.org/pdf/2107.11490)). This involved multiple steps, including account creation, SSH key setup, and waiting for system approval. Additionally, we had to navigate a system maintenance period, which delayed our progress.  \n",
    "\n",
    "Once we gained access, we explored key data attributes such as:\n",
    "- **DM_mass** (dark matter mass)  \n",
    "- **subhalo_pos** (subhalo positions)  \n",
    "- **subhalo_vel** (subhalo velocities)  \n",
    "- **subhalo_number** (number of subhalos)  \n",
    "- **subhalo_Rmax** (maximum radius of subhalos)  \n",
    "- **subhalo_Vmax** (maximum velocity of subhalos)  \n",
    "- **m_200** and **r_200** (virial mass and radius)  \n",
    "- **subhalo_dm_masses** (dark matter masses of subhalos)  \n",
    "\n",
    "## Motivation:\n",
    "\n",
    "Understanding these variables is crucial because they provide insights into halo properties and the overall structure of simulated galaxy formations.\n"
   ]
  },
  {
   "cell_type": "markdown",
   "metadata": {},
   "source": [
    "<span style=\"color: red;\"> What is the overall goal of this research project?</span>"
   ]
  },
  {
   "cell_type": "markdown",
   "metadata": {
    "jp-MarkdownHeadingCollapsed": true
   },
   "source": [
    "# 2: What? (What happened?)\n",
    "## Describe what happened during your activities for the week.\n",
    "\n",
    "We began by **setting up a virtual environment** and installing the necessary libraries and dependencies required to work with the COSMA system and COCO simulation. This included:\n",
    "- Configuring **SSH keys** for remote access.\n",
    "- Setting up **Python virtual environments (venv)**.\n",
    "- Installing libraries necessary for data access and analysis.\n",
    "\n",
    "After successfully gaining access, we started exploring the dataset and analyzing the properties of subhalos.\n",
    "\n",
    "### **Data Visualizations**\n",
    "To better understand the dataset, I generated the following visualizations:\n",
    "\n",
    "#### **1. Log-log plot of Subhalo Vmax vs Mass (No Cuts)**\n",
    "This plot represents the relationship between **maximum circular velocity (Vmax)** and **subhalo mass** in a log-log scale.\n",
    "\n",
    "![Log-log plot of Subhalo Vmax vs Mass (No Cuts)](Log-log%20plot%20of%20Subhalo%20Vmax%20vs%20Mass%20(No%20Cuts).jpg)\n",
    "\n",
    "- We observed a **clear correlation** between **subhalo mass** and **Vmax**, forming a near-linear trend on a log-log scale.  \n",
    "- This indicates a fundamental scaling relation in dark matter halos.\n",
    "\n",
    "#### **2. Subhalo Positions (No Cuts) X vs Y**\n",
    "This scatter plot represents the spatial distribution of subhalos in the X-Y plane.\n",
    "![Subhalo Positions (No Cuts) X vs Y](Subhalo%20Positions%20(No%20Cuts)%20X%20vs%20Y.jpg)\n",
    "\n",
    "\n",
    "- The **spherical shape** suggests a **uniform distribution** of subhalos around the central halo.  \n",
    "- I also generated **X-Z** and **Y-Z** scatter plots, and they exhibit similar structures.  \n",
    "\n",
    "#### **3. Log-log Histogram of Subhalo Masses (No Cuts)**\n",
    "This histogram represents the distribution of **subhalo masses**.\n",
    "\n",
    "<br>\n",
    "\n",
    "![Log-log Histogram of Subhalo Masses (No Cuts)](Log-log%20Histogram%20of%20Subhalo%20Masses%20(No%20Cuts).jpg)\n",
    "\n",
    "<br>\n",
    "\n",
    "- Initially, when plotted in a linear scale, the data was **highly concentrated near zero**, making it difficult to interpret.\n",
    "- Using a **log-log scale**, we revealed the underlying distribution more effectively.\n",
    "- We observed that **low-mass subhalos dominate** the distribution, while **high-mass subhalos are rare**.\n",
    "\n",
    "#### **4. Log-log plot of Subhalo Mass vs Velocity (No Cuts)**\n",
    "This scatter plot shows the relationship between subhalo mass and velocity magnitude.\n",
    "![Log-log plot of Subhalo Mass vs Velocity](Log-log%20plot%20of%20Subhalo%20Mass%20vs%20Velocity%20(No%20Cuts).jpg)\n",
    "\n",
    "\n",
    "- The distribution suggests that **most subhalos have low velocity**, while a small number of high-mass subhalos exhibit a range of velocities.  \n",
    "- More analysis is required to understand this relationship in depth.\n",
    "\n"
   ]
  },
  {
   "cell_type": "markdown",
   "metadata": {},
   "source": [
    "<span style=\"color: red;\"> Very good! </span>"
   ]
  },
  {
   "cell_type": "markdown",
   "metadata": {},
   "source": [
    "# 3: So what? (What does it mean?)\n",
    "## Describe your results\n",
    "\n",
    "The successful setup of our system now allows us to access and manipulate the **COCO simulation data**. This is a significant milestone because it means we can now begin our actual research. Key takeaways:\n",
    "- We have learned how to **navigate the COSMA system** and its requirements.\n",
    "- We now understand the **key variables** that will be important for our study.\n",
    "- The **visualizations provided insights** into the structural properties of subhalos, including their mass distribution and velocity scaling.\n"
   ]
  },
  {
   "cell_type": "markdown",
   "metadata": {},
   "source": [
    "<span style=\"color: red;\"> Good, but put the descriptions of your plots in this section and describe how it relates to the goal of the research. </span>"
   ]
  },
  {
   "cell_type": "markdown",
   "metadata": {},
   "source": [
    "# 4. Now what? (What's next?)\n",
    "## Plan for the next week\n",
    "\n",
    "For the next step, I need to:\n",
    "1. **Make more sense of the plots** by interpreting the relationships in more detail.  \n",
    "2. **Understand the physical meaning of the variables and their units** to ensure correct interpretations.  \n",
    "3. **Apply filters** to search for **Milky Way–M31 (MW-M31) analog pairs** in the dataset.  \n",
    "4. **Compare the identified pairs** with our Local Group to find similar structures.\n",
    "\n",
    "This step is critical for progressing in our research, as it will allow us to identify meaningful patterns and set the direction for further investigation.\n"
   ]
  },
  {
   "cell_type": "markdown",
   "metadata": {},
   "source": [
    "<span style=\"color: red;\"> Good </span>"
   ]
  },
  {
   "cell_type": "markdown",
   "metadata": {},
   "source": [
    "# 5. Bibliography\n",
    "\n",
    "- COSMA Documentation: [https://cosma.readthedocs.io/en/latest/account.html](https://cosma.readthedocs.io/en/latest/account.html)  \n",
    "- COCO Simulation Paper: [https://arxiv.org/pdf/2107.11490](https://arxiv.org/pdf/2107.11490)  "
   ]
  },
  {
   "cell_type": "markdown",
   "metadata": {},
   "source": [
    "<span style=\"color: red;\">Use proper citation formatting in this section. </span>"
   ]
  },
  {
   "cell_type": "markdown",
   "metadata": {},
   "source": [
    "| Category       | Points      |\n",
    "| ------------- |:------------:|\n",
    "| Formatting    |       2       |\n",
    "| Experience    |       2       |\n",
    "| What?         |       2       |\n",
    "| So what?      |       3       |\n",
    "| Now what?     |       4       |\n",
    "| Bibliography  |       2       |\n",
    "| Style         |       3       |\n",
    "| Total         |       18      |"
   ]
  },
  {
   "cell_type": "markdown",
   "metadata": {},
   "source": []
  }
 ],
 "metadata": {
  "kernelspec": {
   "display_name": "Python 3 (ipykernel)",
   "language": "python",
   "name": "python3"
  },
  "language_info": {
   "codemirror_mode": {
    "name": "ipython",
    "version": 3
   },
   "file_extension": ".py",
   "mimetype": "text/x-python",
   "name": "python",
   "nbconvert_exporter": "python",
   "pygments_lexer": "ipython3",
   "version": "3.11.7"
  }
 },
 "nbformat": 4,
 "nbformat_minor": 4
}
