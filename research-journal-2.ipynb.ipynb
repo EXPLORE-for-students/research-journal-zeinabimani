{
 "cells": [
  {
   "cell_type": "markdown",
   "metadata": {},
   "source": [
    "# Research Journal 2\n",
    "## Zeinab Imani\n",
    "## Date: March 3, 2025"
   ]
  },
  {
   "cell_type": "markdown",
   "metadata": {},
   "source": [
    "# 1: Experience\n",
    "## Describe at least one research activity you worked on this week. \n",
    "\n",
    "Since the last research journal, our focus was on applying **progressive selection criteria (cuts)** to identify **Milky Way (MW)–Andromeda (M31) analog pairs** in the COCO simulation. This involved:  \n",
    "- Defining **mass, distance, and velocity constraints** to match MW-M31.  \n",
    "- Removing **third massive galaxies** to ensure isolation.  \n",
    "- Making our **code modular** for easier experimentation with different cuts.  \n",
    "\n",
    "After filtering, we identified **7 candidate galaxy pairs** that closely resemble MW and M31 in terms of **mass, separation, and relative radial velocity**.  \n",
    "\n",
    "## Motivation:\n",
    "\n",
    "The purpose of this research is to study the **dynamical evolution** of MW-M31-like galaxy pairs. By filtering the dataset to match real-world constraints, we ensure that:  \n",
    "1. The selected galaxy pairs **closely resemble MW and M31** in terms of physical properties.  \n",
    "2. We can later apply the **two-body problem and timing argument** to these pairs to reconstruct their **orbital history**.  \n",
    "\n",
    "Understanding MW-M31 analogs helps us:  \n",
    "- Study **galaxy mergers and interactions** in a cosmological setting.  \n",
    "- Compare simulation results to real observational data.  \n",
    "- Ensure that **MW-M31's past motion is dynamically consistent** with predictions.  \n"
   ]
  },
  {
   "cell_type": "markdown",
   "metadata": {},
   "source": [
    "# 2: What? (What happened?)\n",
    "## Describe what happened during your activities for the week.\n",
    "\n",
    "We applied a series of **filtering steps** to extract **MW-M31 analog pairs** from the COCO simulation.  \n",
    "\n",
    "1. **Mass Cut**  \n",
    "   - The paper suggests a **brightness cut**, but our dataset does **not** contain brightness data.  \n",
    "   - Instead, we converted this into a **mass cut**:  \n",
    "     - **Mass range:** **\\(0.5 \\times 10^{12} M_{\\odot} - 5 \\times 10^{12} M_{\\odot}\\)**  \n",
    "     - After this cut, we had **170 galaxies**.  \n",
    "\n",
    "2. **Distance Cut**  \n",
    "   - Since MW and M31 are **780 kpc apart**, we needed similar distances in our dataset.  \n",
    "   - We applied a **distance filter of 500 kpc – 1 Mpc**, leaving **several galaxy pairs**.  \n",
    "\n",
    "3. **Isolated Pair Selection**  \n",
    "   - MW-M31 is an **isolated** system (no other massive galaxies nearby).  \n",
    "   - We **removed pairs that had a third large galaxy in close range**, leaving **7 pairs**.  \n",
    "\n",
    "4. **Relative Radial Velocity Cut**  \n",
    "   - MW and M31 are **moving toward each other**.  \n",
    "   - We kept **only pairs with negative relative radial velocity**.  \n",
    "   - **All 7 pairs already satisfied this condition**, so no additional galaxies were removed.  \n",
    "\n",
    "5. **Code Modularization**  \n",
    "   - We **refactored** our filtering script into **functions** to allow reordering and reapplying cuts easily.  \n",
    "   - This ensures that we can experiment with different selection criteria efficiently.  \n",
    "\n",
    "\n",
    "### **Visualizations**  \n",
    "#### **Figure 1: Subhalo Pairs After Mass & Distance Cuts**  \n",
    "![Subhalo Pairs After Mass & Distance Cuts](mass_distanc_cut.png)\n",
    "\n",
    "- **Yellow dots**: All galaxies that passed the **mass cut**.  \n",
    "- **Red dots**: Galaxies that also passed the **distance cut**.  \n",
    "\n",
    "#### **Figure 2: Final 7 Galaxy Pairs After All Cuts**  \n",
    "![Filtered Pairs After Relative Velocity Cut](isolation_cut.png)\n",
    "\n",
    "- These **7 pairs** are our final MW-M31 analog candidates.  \n"
   ]
  },
  {
   "cell_type": "markdown",
   "metadata": {},
   "source": [
    "# 3: So what? (What does it mean?)\n",
    "## Describe your results\n",
    "\n",
    "The **filtered galaxy pairs** provide a **statistically meaningful** dataset for further analysis.  \n",
    "\n",
    "- By ensuring **MW-M31-like properties**, we can confidently apply **orbital mechanics** to study their evolution.  \n",
    "- The **modular filtering approach** allows us to refine selection criteria dynamically.  \n",
    "- These pairs will be used in the next stage of the project:  \n",
    "  - **Solving the two-body problem** for each pair.  \n",
    "  - **Applying the timing argument** to reconstruct their past motion.  \n",
    "\n",
    "Having **multiple pairs** (instead of just one) strengthens our study by adding **statistical robustness** and avoiding reliance on a **single case study**.\n"
   ]
  },
  {
   "cell_type": "markdown",
   "metadata": {},
   "source": [
    "# 4. Now what? (What's next?)\n",
    "## Plan for the next week\n",
    "\n",
    "For the next phase, we will:  \n",
    "\n",
    "1. **Implement the Two-Body Problem and Timing Argument**  \n",
    "   - Apply **orbital mechanics equations** to estimate **motion and trajectories**.  \n",
    "   - Compare results across **all 7 pairs**.  \n",
    "\n",
    "2. **Refine Our Selection Criteria**  \n",
    "   - Ensure that the **filtered pairs truly match MW-M31** in key aspects.  \n",
    "   - Adjust parameters if necessary.  \n",
    "\n",
    "3. **Check and Standardize Units**  \n",
    "   - Ensure that mass, distance, and velocity are in **consistent and correct units**.  \n"
   ]
  },
  {
   "cell_type": "markdown",
   "metadata": {},
   "source": [
    "# 5. Bibliography\n",
    "\n",
    "Hartl, O. V., & Strigari, L. E. (2022). *Cosmological Simulations*. **Monthly Notices of the Royal Astronomical Society**. Accepted February 4, 2022.\n",
    "\n"
   ]
  }
 ],
 "metadata": {
  "kernelspec": {
   "display_name": "Python 3 (ipykernel)",
   "language": "python",
   "name": "python3"
  },
  "language_info": {
   "codemirror_mode": {
    "name": "ipython",
    "version": 3
   },
   "file_extension": ".py",
   "mimetype": "text/x-python",
   "name": "python",
   "nbconvert_exporter": "python",
   "pygments_lexer": "ipython3",
   "version": "3.11.7"
  }
 },
 "nbformat": 4,
 "nbformat_minor": 4
}
