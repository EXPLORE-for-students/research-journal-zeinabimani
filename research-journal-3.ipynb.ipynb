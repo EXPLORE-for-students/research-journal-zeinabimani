{
 "cells": [
  {
   "cell_type": "markdown",
   "metadata": {
    "jp-MarkdownHeadingCollapsed": true
   },
   "source": [
    "# Research Notebook 3\n",
    "## Zeinab Imani\n",
    "## Date: 2025-03-24"
   ]
  },
  {
   "cell_type": "markdown",
   "metadata": {},
   "source": [
    "# 1: Experience\n",
    "## Describe at least one research activity you worked on this week. \n",
    "\n",
    "Since the last journal, we refined our selection of Milky Way (MW) and Andromeda (M31) analog galaxy pairs and applied the Timing Argument (TA) to estimate their combined mass. We started by applying an additional cut beyond what we had in Journal 2. The full set of cuts now includes:\n",
    "\n",
    "1- Mass cut: 0.5–5 ×10¹² M☉ — filters for MW/M31-like halos (substitute for magnitude cut from the paper we are following)\n",
    "\n",
    "2- V_max < 300 km/s — to avoid overly massive halos\n",
    "\n",
    "3- Separation between 500 kpc and 1 Mpc\n",
    "\n",
    "4- Remove repeated subhalos\n",
    "\n",
    "5- Relative radial velocity < 0 — to reflect the fact that MW and M31 are approaching\n",
    "\n",
    "6- Isolation cut: No halo > 5e12 M☉ within 3 Mpc, or halo with V_max > 150 km/s within 1 Mpc — a more direct and relevant replacement for the magnitude-based isolation cut again from the paper we are follwoing\n",
    "\n",
    "After applying these cuts, we have 3 pairs that resemble MW-M31 most closely.\n",
    "\n",
    "Before applying the isolation cut, we had 7 pairs. After the isolation cut, we were left with only 3, which felt statistically too small, so we chose to keep all 7 for the timing argument analysis and just flag the 3 most realistic ones.\n",
    "\n",
    "Then we implemented and solved the Timing Argument as a two-body problem for all 7 pairs. We did this by adjusting the total mass until the pair's current observed separation and radial velocity were reproduced, looking back over the age of the Universe.\n",
    "\n",
    "To validate the result, we compared the mass found from the timing argument with the sum of dark matter halo masses from the simulation and made a histogram of the ratios.\n",
    "\n",
    "\n",
    "## Motivation:\n",
    "\n",
    "The goal here is to test how well the Timing Argument estimates the true total mass of galaxy pairs. Comparing the dynamical mass estimate from TA with the known simulation value gives insight into how accurate or biased the TA is, especially in simulated cosmological conditions.\n",
    "\n",
    "We also wanted to assess how important the various filtering criteria are, especially isolation and tangential velocity, and whether we can confidently identify MW-M31 analogs within a limited simulation volume.\n"
   ]
  },
  {
   "cell_type": "markdown",
   "metadata": {},
   "source": [
    "# 2: What? (What happened?)  \r\n",
    "## Describe what happened during your activities for the week.  \r\n",
    "\r\n",
    "This week, we finalized our subhalo pair selection and moved into solving the **Timing Argument (TA)** as a two-body problem.\r\n",
    "\r\n",
    "### Final Cut Summary:\r\n",
    "We added two more filtering conditions on top of the previous journal:\r\n",
    "1. **V_max < 300 km/s** – To eliminate very massive halos.\r\n",
    "2. **Isolation cut** – No halo with mass > 5×10¹² M☉ within 3 Mpc, or no halo with V_max > 150 km/s within 1 Mpc.\r\n",
    "   - This substitutes the magnitude-based isolation cut used in other studies, by directly checking for massive neighbors (since we work with halo mass, not galaxy brightness).\r\n",
    "\r\n",
    "So our full list of cuts became:\r\n",
    "1. **Mass cut (0.5–5 ×10¹² M☉)**\r\n",
    "2. **V_max < 300 km/s**\r\n",
    "3. **Separation between 500 kpc and 1 Mpc**\r\n",
    "4. **Remove repeated subhalos**\r\n",
    "5. **Relative radial velocity < 0**\r\n",
    "6. **Isolation cut as described above**\r\n",
    "7. **Keep 7 pairs and flag 3 as most MW–M31-like**\r\n",
    "\r\n",
    "After applying all cuts, the number of pairs dropped from 7 to 3, which felt too small statistically. So we kept **all 7** for Timing Argument calculations, but noted that **3 pairs** are more reliable analogs.\r\n",
    "\r\n",
    "---\r\n",
    "\r\n",
    "### Timing Argument Solver:\r\n",
    "\r\n",
    "We implemented a solver to calculate the **orbital trajectory** of each galaxy pair using the TA approach. We tried various masses and selected the one that:\r\n",
    "- Produces a trajectory where the galaxies **approach**, **reach apocenter**, and then begin **falling back**.\r\n",
    "- Does **not oscillate** (which would be unphysical for a two-body orbit in this context).\r\n",
    "\r\n",
    "The governing equation we solved was:\r\n",
    "\r\n",
    "\\[\r\n",
    "\\frac{d^2 r}{dt^2} = -\\frac{GM}{r^2} + H^2 r + \\Lambda r\r\n",
    "\\]\r\n",
    "\r\n",
    "We used an RK4 method to integrate this, but had to manually tune mass ranges for each pair. This was computationally intensive and required careful visual checking of the results to ensure physical orbits.\r\n",
    "\r\n",
    "One of the challenges was running into division-by-zero or tiny number issues, especially at early times in the orbit integration.\r\n",
    "\r\n",
    "---\r\n",
    "\r\n",
    "### Matching TA Masses to Simulation Masses:\r\n",
    "\r\n",
    "After solving the TA for all 7 pairs, we compared:\r\n",
    "- The mass that best fit the timing argument (from our code).\r\n",
    "- The sum of the dark matter halo masses from the simulation.\r\n",
    "\r\n",
    "We then made a histogram showing the **ratio** of these two for all 7 pairs.\r\n",
    "\r\n",
    "We also encountered a discrepancy between how team members referenced pair indices. Some used indices relative to the post-cut arrays, while others used original simulation indices. We resolved this by updating our code to match on#### **Timing Argument Orbit – Pair 6**\r\n",
    "\r\n",
    "This plot shows the separation of a subhalo pair over time when solving the timing argument for Pair 6. The selected mass results in a trajectory where the pair expands, reaches a maximum separation, and then returns inward — consistent with expectations.\r\n",
    "\r\n",
    "![Timing Argument Orbit for Pair 6](TA%20for%20pair%206.jpg)\r\n",
    "\n",
    "\n",
    "\n",
    "\n",
    "#### **Histogram of Mass Ratios (TA Mass / Simulation Mass)**\r\n",
    "\r\n",
    "This histogram shows the distribution of the ratio of the mass obtained using the timing argument to the combined subhalo mass from the simulation for the seven selected galaxy pairs.\r\n",
    "\r\n",
    "![Histogram of LG Mass Ratio](massHistogram.jpg)\r\n",
    "\n",
    "\n",
    "\n",
    "We can see ein the histogram how imposrtant in it t is sto have more samples so we could deduce better results staticscttically."
   ]
  },
  {
   "cell_type": "markdown",
   "metadata": {},
   "source": [
    "# 3: So what? (What does it mean?)\n",
    "## Describe your results\n",
    "\n",
    "\n",
    "\r\n",
    "The timing argument gave us useful but imperfect mass estimates. For some pairs, the inferred mass closely matched the simulation's halo mass; for others, there were noticeable differences.\r\n",
    "\r\n",
    "We learned that:\r\n",
    "- The **TA is sensitive to initial conditions** and assumed radial/tangential velocities.\r\n",
    "- Some pairs had very high **tangential velocities**, unlike MW-M31, which made them unreliable. We added a new cut to remove these.\r\n",
    "- Even when mass ratios were off, the **overall shape of the orbit helped validate** if the mass was reasonable.\r\n",
    "- The **importance of good filtering criteria** became more obvious: small sample sizes can skew results, and analogs must be chosen carefully.\r\n",
    "- We also realized the need to **check for Hubble flow** in the simulation data to be sure we’re treating velocities consntly.\r\n",
    "here"
   ]
  },
  {
   "cell_type": "markdown",
   "metadata": {},
   "source": [
    "# 4. Now what? (What's next?)\n",
    "## Plan for the next week\n",
    "\n",
    "There are still a few things left to finalize:\n",
    "\n",
    "1-Check if Hubble flow is already included in the simulation’s subhalo velocities.\n",
    "\n",
    "2-Document the filtering process more clearly so we can replicate or tweak it easily.\n",
    "\n",
    "3-Explore why the TA masses differ from simulation masses — possibly due to non-radial motion, large tangential components, or interaction with nearby halos.\n",
    "\n",
    "4-Refactor code for modularity and share plots for group review.\n",
    "\n",
    "5-Write up our conclusions, summarizing whether the TA is effective in this simulation context."
   ]
  },
  {
   "cell_type": "markdown",
   "metadata": {},
   "source": [
    "# 5. Bibliography\n",
    "\n",
    "\n",
    "\r\n",
    "- Hartl, O. V., & Strigari, L. E. (2022). *Cosmological Simulations*. Monthly Notices of the Royal Astronomical Society. [arXiv:2202.00033](https://arxiv.org/abs/2202.00033)  \r\n",
    "- Khan, F., Just, A., & Berczik, P. (2021). *Reconstructing the Past Orbit of the Milky Way and Andromeda Using the Timing Argument*. MNRAS, 506(2), 3035–3049. [arXiv:2107.11490](https://arxiv.org/abs/2107.11490)\r\n"
   ]
  },
  {
   "cell_type": "markdown",
   "metadata": {},
   "source": [
    "# Grading\n",
    "\n",
    "| Category       | Points      |\n",
    "| ------------- |:------------:|\n",
    "| Formatting    |       2 / 2       |\n",
    "| Experience    |       2 / 2       |\n",
    "| What?         |       2 / 2       |\n",
    "| So what?      |       4 / 4       |\n",
    "| Now what?     |       4 / 4       |\n",
    "| Bibliography  |       3 / 3       |\n",
    "| Style         |       3 / 3       |\n",
    "| Total         |       20 / 20     |"
   ]
  },
  {
   "cell_type": "markdown",
   "metadata": {},
   "source": [
    "## Additional comments"
   ]
  },
  {
   "cell_type": "markdown",
   "metadata": {},
   "source": [
    "Great work! "
   ]
  }
 ],
 "metadata": {
  "kernelspec": {
   "display_name": "Python 3 (ipykernel)",
   "language": "python",
   "name": "python3"
  },
  "language_info": {
   "codemirror_mode": {
    "name": "ipython",
    "version": 3
   },
   "file_extension": ".py",
   "mimetype": "text/x-python",
   "name": "python",
   "nbconvert_exporter": "python",
   "pygments_lexer": "ipython3",
   "version": "3.13.2"
  }
 },
 "nbformat": 4,
 "nbformat_minor": 4
}
